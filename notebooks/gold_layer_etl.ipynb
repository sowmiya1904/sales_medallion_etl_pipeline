{
 "cells": [
  {
   "cell_type": "code",
   "execution_count": 0,
   "metadata": {
    "application/vnd.databricks.v1+cell": {
     "cellMetadata": {
      "byteLimit": 2048000,
      "rowLimit": 10000
     },
     "inputWidgets": {},
     "nuid": "cfa25f85-5384-4d3d-93a4-81b0c2850d95",
     "showTitle": false,
     "tableResultSettingsMap": {},
     "title": ""
    }
   },
   "outputs": [],
   "source": [
    "from pyspark.sql.functions import *\n",
    "from pyspark.sql.window import Window\n",
    "from delta.tables import DeltaTable"
   ]
  },
  {
   "cell_type": "code",
   "execution_count": 0,
   "metadata": {
    "application/vnd.databricks.v1+cell": {
     "cellMetadata": {
      "byteLimit": 2048000,
      "rowLimit": 10000
     },
     "inputWidgets": {},
     "nuid": "e202d5d9-0efc-4dc0-831a-11e54234ed34",
     "showTitle": false,
     "tableResultSettingsMap": {},
     "title": ""
    }
   },
   "outputs": [],
   "source": [
    "# Defining catalog and schema name\n",
    "catalog_name = \"walmart_purchases\"\n",
    "silver_schema = f\"{catalog_name}.silver\"\n",
    "gold_schema = f\"{catalog_name}.gold\"\n",
    "\n",
    "silver_table = f\"{silver_schema}.silver_purchases\""
   ]
  },
  {
   "cell_type": "markdown",
   "metadata": {
    "application/vnd.databricks.v1+cell": {
     "cellMetadata": {},
     "inputWidgets": {},
     "nuid": "700cf321-fecd-46c5-b601-43a1356c960a",
     "showTitle": false,
     "tableResultSettingsMap": {},
     "title": ""
    }
   },
   "source": [
    "## Dim Customers"
   ]
  },
  {
   "cell_type": "code",
   "execution_count": 0,
   "metadata": {
    "application/vnd.databricks.v1+cell": {
     "cellMetadata": {
      "byteLimit": 2048000,
      "implicitDf": true,
      "rowLimit": 10000
     },
     "inputWidgets": {},
     "nuid": "2e207efe-4254-4a1c-8c89-495c33dfb78e",
     "showTitle": false,
     "tableResultSettingsMap": {},
     "title": ""
    }
   },
   "outputs": [],
   "source": [
    "%sql\n",
    "CREATE OR REPLACE TABLE walmart_purchases.gold.dim_customers\n",
    "AS\n",
    "WITH dim_cust AS \n",
    "(\n",
    "  SELECT\n",
    "    DISTINCT(Customer_ID),\n",
    "    Age,\n",
    "    Gender,\n",
    "    City,\n",
    "    Repeat_Customer\n",
    "  FROM walmart_purchases.silver.silver_purchases\n",
    ")\n",
    "SELECT *, row_number() OVER (ORDER BY Customer_ID) as DimCustomerKey,\n",
    "      current_date() as start_date,\n",
    "      CAST('9999-12-31' AS DATE) as end_date,\n",
    "      'Y' as is_current\n",
    "FROM dim_cust"
   ]
  },
  {
   "cell_type": "code",
   "execution_count": 0,
   "metadata": {
    "application/vnd.databricks.v1+cell": {
     "cellMetadata": {
      "byteLimit": 2048000,
      "rowLimit": 10000
     },
     "inputWidgets": {},
     "nuid": "9be65561-e421-4d5b-a3e8-37bf8a76e9c7",
     "showTitle": false,
     "tableResultSettingsMap": {},
     "title": ""
    }
   },
   "outputs": [],
   "source": [
    "# Adding additional columns for SCD Type 2\n",
    "spark.sql(\"\"\"SELECT *,\n",
    "        current_timestamp as start_date,\n",
    "        CAST('3000-01-01' AS TIMESTAMP) as end_date,\n",
    "        'Y' as is_current\n",
    "FROM walmart_purchases.silver.silver_purchases\"\"\").createOrReplaceTempView(\"src\")"
   ]
  },
  {
   "cell_type": "markdown",
   "metadata": {
    "application/vnd.databricks.v1+cell": {
     "cellMetadata": {},
     "inputWidgets": {},
     "nuid": "1f4094f9-2862-4e52-816e-42bd472b4870",
     "showTitle": false,
     "tableResultSettingsMap": {},
     "title": ""
    }
   },
   "source": [
    "## SCD Type -2"
   ]
  },
  {
   "cell_type": "code",
   "execution_count": 0,
   "metadata": {
    "application/vnd.databricks.v1+cell": {
     "cellMetadata": {
      "byteLimit": 2048000,
      "implicitDf": true,
      "rowLimit": 10000
     },
     "inputWidgets": {},
     "nuid": "e6455bed-5bd1-4978-9ef1-16d7802dd741",
     "showTitle": false,
     "tableResultSettingsMap": {},
     "title": ""
    }
   },
   "outputs": [],
   "source": [
    "%sql\n",
    "MERGE INTO walmart_purchases.gold.dim_customers tgt\n",
    "USING src\n",
    "ON src.Customer_ID = tgt.Customer_ID AND tgt.is_current = 'Y'\n",
    "WHEN MATCHED AND (\n",
    "    tgt.City <> src.City\n",
    ") THEN\n",
    "  UPDATE SET\n",
    "    tgt.is_current = 'N',\n",
    "    tgt.End_Date = current_date()\n",
    "WHEN NOT MATCHED THEN\n",
    "  INSERT (\n",
    "    Customer_ID,\n",
    "    Age,\n",
    "    Gender,\n",
    "    City,\n",
    "    Repeat_Customer,\n",
    "    start_date,\n",
    "    end_date,\n",
    "    is_current\n",
    "  )\n",
    "  VALUES (\n",
    "    src.Customer_ID,\n",
    "    src.Age,\n",
    "    src.Gender,\n",
    "    src.City,\n",
    "    src.Repeat_Customer,\n",
    "    current_date(),\n",
    "    '9999-12-31',\n",
    "    'Y'\n",
    "  )\n",
    "    "
   ]
  },
  {
   "cell_type": "markdown",
   "metadata": {
    "application/vnd.databricks.v1+cell": {
     "cellMetadata": {},
     "inputWidgets": {},
     "nuid": "20d11de2-1e85-42dc-981c-34adbc292414",
     "showTitle": false,
     "tableResultSettingsMap": {},
     "title": ""
    }
   },
   "source": [
    "## Dim Products"
   ]
  },
  {
   "cell_type": "code",
   "execution_count": 0,
   "metadata": {
    "application/vnd.databricks.v1+cell": {
     "cellMetadata": {
      "byteLimit": 2048000,
      "implicitDf": true,
      "rowLimit": 10000
     },
     "inputWidgets": {},
     "nuid": "3197d5d5-a065-4238-9c11-3e632f08f447",
     "showTitle": false,
     "tableResultSettingsMap": {},
     "title": ""
    }
   },
   "outputs": [],
   "source": [
    "%sql\n",
    "CREATE OR REPLACE TABLE walmart_purchases.gold.dim_products\n",
    "AS\n",
    "WITH dim_prod AS \n",
    "(\n",
    "  SELECT\n",
    "    DISTINCT(Category),\n",
    "    Product_Name\n",
    "  FROM walmart_purchases.silver.silver_purchases\n",
    ")\n",
    "SELECT *, row_number() OVER (ORDER BY Category, Product_Name) as DimProductKey,\n",
    "        current_date() as start_date,\n",
    "        CAST('9999-12-31' AS DATE) as end_date,\n",
    "        'Y' as is_current\n",
    "FROM dim_prod"
   ]
  },
  {
   "cell_type": "code",
   "execution_count": 0,
   "metadata": {
    "application/vnd.databricks.v1+cell": {
     "cellMetadata": {
      "byteLimit": 2048000,
      "implicitDf": true,
      "rowLimit": 10000
     },
     "inputWidgets": {},
     "nuid": "6a54ea5d-fd0c-459f-8ce8-692b9eb174e8",
     "showTitle": false,
     "tableResultSettingsMap": {},
     "title": ""
    }
   },
   "outputs": [],
   "source": [
    "%sql\n",
    "MERGE INTO walmart_purchases.gold.dim_products tgt\n",
    "USING src\n",
    "ON src.Product_Name = tgt.Product_Name AND tgt.is_current = 'Y'\n",
    "WHEN MATCHED AND tgt.Category <> src.Category THEN\n",
    "UPDATE SET \n",
    "    tgt.is_current = 'N',\n",
    "    tgt.End_Date = current_date()\n",
    "WHEN NOT MATCHED THEN\n",
    "  INSERT (\n",
    "    Category,\n",
    "    Product_Name,\n",
    "    start_date,\n",
    "    end_date,\n",
    "    is_current\n",
    "  )\n",
    "  VALUES (\n",
    "    src.Category,\n",
    "    src.Product_Name,\n",
    "    current_date(),\n",
    "    '9999-12-31',\n",
    "    'Y'\n",
    "  )"
   ]
  },
  {
   "cell_type": "code",
   "execution_count": 0,
   "metadata": {
    "application/vnd.databricks.v1+cell": {
     "cellMetadata": {
      "byteLimit": 2048000,
      "implicitDf": true,
      "rowLimit": 10000
     },
     "inputWidgets": {},
     "nuid": "04afd53e-7ff5-4811-b067-7f7b935876ff",
     "showTitle": false,
     "tableResultSettingsMap": {},
     "title": ""
    }
   },
   "outputs": [],
   "source": [
    "%sql\n",
    "SELECT * FROM walmart_purchases.gold.dim_products"
   ]
  },
  {
   "cell_type": "markdown",
   "metadata": {
    "application/vnd.databricks.v1+cell": {
     "cellMetadata": {},
     "inputWidgets": {},
     "nuid": "fa0a7614-f695-4f62-8b8a-58a5f413d578",
     "showTitle": false,
     "tableResultSettingsMap": {},
     "title": ""
    }
   },
   "source": [
    "## Dim Date"
   ]
  },
  {
   "cell_type": "code",
   "execution_count": 0,
   "metadata": {
    "application/vnd.databricks.v1+cell": {
     "cellMetadata": {
      "byteLimit": 2048000,
      "implicitDf": true,
      "rowLimit": 10000
     },
     "inputWidgets": {},
     "nuid": "735ac816-3919-4d50-b32e-4a52d107832d",
     "showTitle": false,
     "tableResultSettingsMap": {},
     "title": ""
    }
   },
   "outputs": [],
   "source": [
    "%sql\n",
    "CREATE OR REPLACE TABLE walmart_purchases.gold.dim_date\n",
    "WITH dim_date AS\n",
    "(\n",
    "  SELECT \n",
    "    DISTINCT(Purchase_Date),\n",
    "    Year,\n",
    "    Month,\n",
    "    Day,\n",
    "    Week \n",
    "  FROM walmart_purchases.silver.silver_purchases\n",
    ")\n",
    "SELECT *, row_number() OVER (ORDER BY Purchase_Date) as DimDateKey\n",
    "FROM dim_date;"
   ]
  },
  {
   "cell_type": "markdown",
   "metadata": {
    "application/vnd.databricks.v1+cell": {
     "cellMetadata": {},
     "inputWidgets": {},
     "nuid": "b389b424-e087-4077-b733-9590a8613cf1",
     "showTitle": false,
     "tableResultSettingsMap": {},
     "title": ""
    }
   },
   "source": [
    "### MERGE for Incremental Load"
   ]
  },
  {
   "cell_type": "code",
   "execution_count": 0,
   "metadata": {
    "application/vnd.databricks.v1+cell": {
     "cellMetadata": {
      "byteLimit": 2048000,
      "implicitDf": true,
      "rowLimit": 10000
     },
     "inputWidgets": {},
     "nuid": "752d7e9d-9ea2-4a7c-a181-6b9aa28c6e82",
     "showTitle": false,
     "tableResultSettingsMap": {},
     "title": ""
    }
   },
   "outputs": [],
   "source": [
    "%sql\n",
    "MERGE INTO walmart_purchases.gold.dim_date tgt\n",
    "USING walmart_purchases.silver.silver_purchases src\n",
    "ON tgt.Purchase_Date = src.Purchase_Date\n",
    "WHEN NOT MATCHED THEN\n",
    "  INSERT(\n",
    "    Purchase_Date,\n",
    "    Year,\n",
    "    Month,\n",
    "    Day,\n",
    "    Week\n",
    "  )\n",
    "  VALUES (\n",
    "    src.Purchase_Date,\n",
    "    src.Year,\n",
    "    src.Month,\n",
    "    src.Day,\n",
    "    src.Week\n",
    "  )"
   ]
  },
  {
   "cell_type": "markdown",
   "metadata": {
    "application/vnd.databricks.v1+cell": {
     "cellMetadata": {},
     "inputWidgets": {},
     "nuid": "7320cd4d-04cc-4c96-9b9b-0d6c5e1b0f46",
     "showTitle": false,
     "tableResultSettingsMap": {},
     "title": ""
    }
   },
   "source": [
    "## Dim Payment"
   ]
  },
  {
   "cell_type": "code",
   "execution_count": 0,
   "metadata": {
    "application/vnd.databricks.v1+cell": {
     "cellMetadata": {
      "byteLimit": 2048000,
      "implicitDf": true,
      "rowLimit": 10000
     },
     "inputWidgets": {},
     "nuid": "a56c876b-60b0-4b57-b104-67210b4a350e",
     "showTitle": true,
     "tableResultSettingsMap": {},
     "title": ""
    }
   },
   "outputs": [],
   "source": [
    "%sql\n",
    "CREATE OR REPLACE TABLE walmart_purchases.gold.dim_payment\n",
    "WITH dim_payment AS\n",
    "(\n",
    "  SELECT DISTINCT(Payment_Method)\n",
    "  FROM walmart_purchases.silver.silver_purchases\n",
    ")\n",
    "SELECT *, row_number() OVER (ORDER BY Payment_Method) as DimPaymentKey\n",
    "FROM dim_payment;"
   ]
  },
  {
   "cell_type": "code",
   "execution_count": 0,
   "metadata": {
    "application/vnd.databricks.v1+cell": {
     "cellMetadata": {
      "byteLimit": 2048000,
      "implicitDf": true,
      "rowLimit": 10000
     },
     "inputWidgets": {},
     "nuid": "d45a21f8-2580-4052-956a-27dc98b59489",
     "showTitle": false,
     "tableResultSettingsMap": {},
     "title": ""
    }
   },
   "outputs": [],
   "source": [
    "%sql\n",
    "MERGE INTO walmart_purchases.gold.dim_payment tgt\n",
    "USING walmart_purchases.silver.silver_purchases src\n",
    "ON src.Payment_Method = tgt.Payment_Method\n",
    "WHEN NOT MATCHED THEN\n",
    "  INSERT(\n",
    "    Payment_Method\n",
    "  )\n",
    "  VALUES (\n",
    "    src.Payment_Method\n",
    "  )"
   ]
  },
  {
   "cell_type": "markdown",
   "metadata": {
    "application/vnd.databricks.v1+cell": {
     "cellMetadata": {},
     "inputWidgets": {},
     "nuid": "5e4d3ffb-85d7-4fc9-9f91-99efb0e4904c",
     "showTitle": false,
     "tableResultSettingsMap": {},
     "title": ""
    }
   },
   "source": [
    "## Fact Purchases"
   ]
  },
  {
   "cell_type": "code",
   "execution_count": 0,
   "metadata": {
    "application/vnd.databricks.v1+cell": {
     "cellMetadata": {
      "byteLimit": 2048000,
      "implicitDf": true,
      "rowLimit": 10000
     },
     "inputWidgets": {},
     "nuid": "f40df921-b9a6-4d04-8c34-2d9402a76c0f",
     "showTitle": false,
     "tableResultSettingsMap": {},
     "title": ""
    }
   },
   "outputs": [],
   "source": [
    "%sql\n",
    "CREATE OR REPLACE TABLE walmart_purchases.gold.fact_purchases\n",
    "AS\n",
    "SELECT \n",
    "  C.DimCustomerKey,\n",
    "  P.DimProductKey,\n",
    "  D.DimDateKey,\n",
    "  PY.DimPaymentKey,\n",
    "  F.Purchase_Amount,\n",
    "  F.Discount_Applied,\n",
    "  F.Rating\n",
    "FROM walmart_purchases.silver.silver_purchases F\n",
    "LEFT JOIN walmart_purchases.gold.dim_customers C\n",
    "ON F.Customer_ID = C.Customer_ID\n",
    "LEFT JOIN walmart_purchases.gold.dim_products P\n",
    "ON F.Category = P.Category\n",
    "LEFT JOIN walmart_purchases.gold.dim_date D\n",
    "ON D.Purchase_Date = F.Purchase_Date\n",
    "LEFT JOIN walmart_purchases.gold.dim_payment PY\n",
    "ON F.Payment_Method = PY.Payment_Method"
   ]
  },
  {
   "cell_type": "code",
   "execution_count": 0,
   "metadata": {
    "application/vnd.databricks.v1+cell": {
     "cellMetadata": {
      "byteLimit": 2048000,
      "implicitDf": true,
      "rowLimit": 10000
     },
     "inputWidgets": {},
     "nuid": "6e80a56d-827f-4b62-92f7-e76de9229ec9",
     "showTitle": false,
     "tableResultSettingsMap": {},
     "title": ""
    }
   },
   "outputs": [],
   "source": [
    "%sql\n",
    "SELECT * FROM walmart_purchases.gold.fact_purchases"
   ]
  }
 ],
 "metadata": {
  "application/vnd.databricks.v1+notebook": {
   "computePreferences": {
    "hardware": {
     "accelerator": null,
     "gpuPoolId": null,
     "memory": null
    }
   },
   "dashboards": [],
   "environmentMetadata": {
    "base_environment": "",
    "environment_version": "3"
   },
   "inputWidgetPreferences": null,
   "language": "python",
   "notebookMetadata": {
    "mostRecentlyExecutedCommandWithImplicitDF": {
     "commandId": 8071039802766645,
     "dataframes": [
      "_sqldf"
     ]
    },
    "pythonIndentUnit": 4
   },
   "notebookName": "gold_layer_etl",
   "widgets": {}
  },
  "language_info": {
   "name": "python"
  }
 },
 "nbformat": 4,
 "nbformat_minor": 0
}
