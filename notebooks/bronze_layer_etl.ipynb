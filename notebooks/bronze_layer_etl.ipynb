{
 "cells": [
  {
   "cell_type": "code",
   "execution_count": 0,
   "metadata": {
    "application/vnd.databricks.v1+cell": {
     "cellMetadata": {
      "byteLimit": 2048000,
      "rowLimit": 10000
     },
     "inputWidgets": {},
     "nuid": "43341e35-c898-4b65-8d68-17838b61ed2a",
     "showTitle": false,
     "tableResultSettingsMap": {},
     "title": ""
    }
   },
   "outputs": [],
   "source": [
    "from pyspark.sql.types import *\n",
    "from pyspark.sql.functions import *\n",
    "from delta.tables import DeltaTable\n",
    "import os"
   ]
  },
  {
   "cell_type": "code",
   "execution_count": 0,
   "metadata": {
    "application/vnd.databricks.v1+cell": {
     "cellMetadata": {
      "byteLimit": 2048000,
      "rowLimit": 10000
     },
     "inputWidgets": {},
     "nuid": "9e5edff2-5517-43ac-92da-c58d9d6a67e2",
     "showTitle": false,
     "tableResultSettingsMap": {},
     "title": ""
    }
   },
   "outputs": [],
   "source": [
    "# Defining the schema\n",
    "purchases_schema = StructType([\n",
    "    StructField(\"Customer_ID\", StringType(), True),\n",
    "    StructField(\"Age\", IntegerType(), True),\n",
    "    StructField(\"Gender\", StringType(), True),\n",
    "    StructField(\"City\", StringType(), True),\n",
    "    StructField(\"Category\", StringType(), True),\n",
    "    StructField(\"Product_Name\", StringType(), True),\n",
    "    StructField(\"Purchase_Date\", StringType(), True),\n",
    "    StructField(\"Purchase_Amount\", DoubleType(), True),\n",
    "    StructField(\"Payment_Method\", StringType(), True),\n",
    "    StructField(\"Discount_Applied\", StringType(), True),\n",
    "    StructField(\"Rating\", IntegerType(), True),\n",
    "    StructField(\"Repeat_Customer\", StringType(), True)\n",
    "])"
   ]
  },
  {
   "cell_type": "code",
   "execution_count": 0,
   "metadata": {
    "application/vnd.databricks.v1+cell": {
     "cellMetadata": {
      "byteLimit": 2048000,
      "rowLimit": 10000
     },
     "inputWidgets": {},
     "nuid": "cea07054-6cf5-4c74-b4bb-b3aba6919393",
     "showTitle": false,
     "tableResultSettingsMap": {},
     "title": ""
    }
   },
   "outputs": [],
   "source": [
    "# Defining the data path\n",
    "raw_data_path = \"/Volumes/walmart_purchases/landing/rawdata/\"\n",
    "catalog_name = \"walmart_purchases\"\n",
    "schema_name = \"bronze\"\n",
    "table_name = \"bronze_purchases\"\n",
    "bronze_table = f\"{catalog_name}.{schema_name}.{table_name}\""
   ]
  },
  {
   "cell_type": "code",
   "execution_count": 0,
   "metadata": {
    "application/vnd.databricks.v1+cell": {
     "cellMetadata": {
      "byteLimit": 2048000,
      "rowLimit": 10000
     },
     "inputWidgets": {},
     "nuid": "b882ff7f-a0d1-4bd9-ab4b-24b637f01ee4",
     "showTitle": false,
     "tableResultSettingsMap": {},
     "title": ""
    }
   },
   "outputs": [],
   "source": [
    "# List to store all csv files dynamically\n",
    "csv_files = [f for f in os.listdir(raw_data_path) if f.endswith(\".csv\")]\n",
    "\n",
    "# Reading and combining all csv files\n",
    "combined_dfs = []\n",
    "for f in csv_files:\n",
    "    df = spark.read.format(\"csv\") \\\n",
    "                .option(\"header\", True) \\\n",
    "                .schema(purchases_schema) \\\n",
    "                .load(os.path.join(raw_data_path, f))\n",
    "    combined_dfs.append(df)\n"
   ]
  },
  {
   "cell_type": "code",
   "execution_count": 0,
   "metadata": {
    "application/vnd.databricks.v1+cell": {
     "cellMetadata": {
      "byteLimit": 2048000,
      "rowLimit": 10000
     },
     "inputWidgets": {},
     "nuid": "706e9945-6fd5-4bde-9407-1d68799cf895",
     "showTitle": false,
     "tableResultSettingsMap": {},
     "title": ""
    }
   },
   "outputs": [],
   "source": [
    "# Combining rows from all dataframes \n",
    "\n",
    "landing_df = combined_dfs[0]\n",
    "for df in combined_dfs[1:]:\n",
    "    landing_df = landing_df.unionByName(df)\n"
   ]
  },
  {
   "cell_type": "code",
   "execution_count": 0,
   "metadata": {
    "application/vnd.databricks.v1+cell": {
     "cellMetadata": {
      "byteLimit": 2048000,
      "rowLimit": 10000
     },
     "inputWidgets": {},
     "nuid": "604c9258-937b-4e2a-9cb4-b93f807a7555",
     "showTitle": false,
     "tableResultSettingsMap": {},
     "title": ""
    }
   },
   "outputs": [],
   "source": [
    "# Adding ingestion metadata\n",
    "bronze_df = (\n",
    "    landing_df \\\n",
    "    .withColumn(\"ingestion_date\", date_format(current_timestamp(), \"yyyy-MM-dd\")) \n",
    ")\n"
   ]
  },
  {
   "cell_type": "code",
   "execution_count": 0,
   "metadata": {
    "application/vnd.databricks.v1+cell": {
     "cellMetadata": {},
     "inputWidgets": {},
     "nuid": "c1a01b72-a2b7-4c54-9eaa-7b1a0c3b6cfa",
     "showTitle": false,
     "tableResultSettingsMap": {},
     "title": ""
    }
   },
   "outputs": [],
   "source": [
    "if spark.catalog.tableExists(bronze_table):\n",
    "    last_load_date = (\n",
    "        spark.table(bronze_table)\n",
    "        .agg(max(\"Purchase_Date\").alias(\"last_date\"))\n",
    "        .collect()[0][\"last_date\"]\n",
    "    )\n",
    "\n",
    "    if last_load_date:\n",
    "        bronze_df = bronze_df.filter(col(\"Purchase_Date\") > last_load_date)\n",
    "\n",
    "    # Append new data\n",
    "    (\n",
    "        bronze_df.write \\\n",
    "                .format(\"delta\") \\\n",
    "                .mode(\"append\") \\\n",
    "                .saveAsTable(bronze_table)\n",
    "    )\n",
    "\n",
    "else:\n",
    "    (\n",
    "        bronze_df.write \\\n",
    "                .format(\"delta\") \\\n",
    "                .mode(\"overwrite\") \\\n",
    "                .saveAsTable(bronze_table)\n",
    "    )"
   ]
  },
  {
   "cell_type": "code",
   "execution_count": 0,
   "metadata": {
    "application/vnd.databricks.v1+cell": {
     "cellMetadata": {
      "byteLimit": 2048000,
      "implicitDf": true,
      "rowLimit": 10000
     },
     "inputWidgets": {},
     "nuid": "7118e28a-8c15-4bb2-b56b-81154fa1015a",
     "showTitle": false,
     "tableResultSettingsMap": {},
     "title": ""
    }
   },
   "outputs": [],
   "source": [
    "%sql\n",
    "select * from walmart_purchases.bronze.bronze_purchases"
   ]
  }
 ],
 "metadata": {
  "application/vnd.databricks.v1+notebook": {
   "computePreferences": null,
   "dashboards": [],
   "environmentMetadata": {
    "base_environment": "",
    "environment_version": "3"
   },
   "inputWidgetPreferences": null,
   "language": "python",
   "notebookMetadata": {
    "mostRecentlyExecutedCommandWithImplicitDF": {
     "commandId": 8871254317249158,
     "dataframes": [
      "_sqldf"
     ]
    },
    "pythonIndentUnit": 4
   },
   "notebookName": "bronze_layer_etl",
   "widgets": {}
  },
  "language_info": {
   "name": "python"
  }
 },
 "nbformat": 4,
 "nbformat_minor": 0
}
