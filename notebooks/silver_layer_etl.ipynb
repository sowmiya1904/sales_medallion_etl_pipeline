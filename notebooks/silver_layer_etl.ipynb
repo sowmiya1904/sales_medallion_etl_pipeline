{
 "cells": [
  {
   "cell_type": "code",
   "execution_count": 0,
   "metadata": {
    "application/vnd.databricks.v1+cell": {
     "cellMetadata": {
      "byteLimit": 2048000,
      "rowLimit": 10000
     },
     "inputWidgets": {},
     "nuid": "4c2e2207-0445-4fcd-ab21-47c8e14d84e8",
     "showTitle": false,
     "tableResultSettingsMap": {},
     "title": ""
    }
   },
   "outputs": [],
   "source": [
    "from pyspark.sql.types import *\n",
    "from pyspark.sql.functions import *\n",
    "from delta.tables import *"
   ]
  },
  {
   "cell_type": "code",
   "execution_count": 0,
   "metadata": {
    "application/vnd.databricks.v1+cell": {
     "cellMetadata": {
      "byteLimit": 2048000,
      "rowLimit": 10000
     },
     "inputWidgets": {},
     "nuid": "63e88d48-d911-4070-b5f0-253ee7728408",
     "showTitle": false,
     "tableResultSettingsMap": {},
     "title": ""
    }
   },
   "outputs": [],
   "source": [
    "# Defining schema and table paths\n",
    "catalog_name = \"walmart_purchases\"\n",
    "bronze_schema = f\"{catalog_name}.bronze\"\n",
    "silver_schema = f\"{catalog_name}.silver\"\n",
    "\n",
    "bronze_table = f\"{bronze_schema}.bronze_purchases\"\n",
    "silver_table = f\"{silver_schema}.silver_purchases\""
   ]
  },
  {
   "cell_type": "code",
   "execution_count": 0,
   "metadata": {
    "application/vnd.databricks.v1+cell": {
     "cellMetadata": {
      "byteLimit": 2048000,
      "rowLimit": 10000
     },
     "inputWidgets": {},
     "nuid": "7cd57d85-cc92-4fef-b159-3569a46c9f7c",
     "showTitle": false,
     "tableResultSettingsMap": {},
     "title": ""
    }
   },
   "outputs": [],
   "source": [
    "# Reading the bronze table\n",
    "bronze_df = spark.table(bronze_table)"
   ]
  },
  {
   "cell_type": "code",
   "execution_count": 0,
   "metadata": {
    "application/vnd.databricks.v1+cell": {
     "cellMetadata": {
      "byteLimit": 2048000,
      "rowLimit": 10000
     },
     "inputWidgets": {},
     "nuid": "a06830f9-fa71-4805-9203-791bc05d6818",
     "showTitle": false,
     "tableResultSettingsMap": {},
     "title": ""
    }
   },
   "outputs": [],
   "source": [
    "bronze_df.display()"
   ]
  },
  {
   "cell_type": "markdown",
   "metadata": {
    "application/vnd.databricks.v1+cell": {
     "cellMetadata": {},
     "inputWidgets": {},
     "nuid": "ddead928-b869-493d-9671-748e7994cfb5",
     "showTitle": false,
     "tableResultSettingsMap": {},
     "title": ""
    }
   },
   "source": [
    "### Data Cleaning and Type Casting"
   ]
  },
  {
   "cell_type": "code",
   "execution_count": 0,
   "metadata": {
    "application/vnd.databricks.v1+cell": {
     "cellMetadata": {
      "byteLimit": 2048000,
      "rowLimit": 10000
     },
     "inputWidgets": {},
     "nuid": "afcf103a-1d59-437b-a3cf-42bc9f2d5d78",
     "showTitle": false,
     "tableResultSettingsMap": {},
     "title": ""
    }
   },
   "outputs": [],
   "source": [
    "cleaned_bronze_df = (\n",
    "    bronze_df\n",
    "    # ------Trim whitespace for string columns------\n",
    "    .withColumn(\"Customer_ID\", trim(col(\"Customer_ID\"))) \n",
    "    .withColumn(\"Gender\", trim(col(\"Gender\")))\n",
    "    .withColumn(\"City\", trim(col(\"City\")))\n",
    "    .withColumn(\"Category\", trim(col(\"Category\")))\n",
    "    .withColumn(\"Product_Name\", trim(col(\"Product_Name\")))\n",
    "    .withColumn(\"Payment_Method\", trim(col(\"Payment_Method\")))\n",
    "    .withColumn(\"Discount_Applied\", trim(col(\"Discount_Applied\")))\n",
    "    .withColumn(\"Repeat_Customer\", trim(col(\"Repeat_Customer\")))\n",
    "\n",
    "    # ------Cast data types-----\n",
    "    .withColumn(\"Purchase_Date\", to_date(col(\"Purchase_Date\"), \"M/d/yyyy\"))\n",
    "    .withColumn(\"ingestion_date\", col(\"ingestion_date\").cast(DateType()))\n",
    ")"
   ]
  },
  {
   "cell_type": "markdown",
   "metadata": {
    "application/vnd.databricks.v1+cell": {
     "cellMetadata": {},
     "inputWidgets": {},
     "nuid": "30989d1f-0e34-4ded-a1c6-38efa66d135b",
     "showTitle": false,
     "tableResultSettingsMap": {},
     "title": ""
    }
   },
   "source": [
    "### Drop duplicates"
   ]
  },
  {
   "cell_type": "code",
   "execution_count": 0,
   "metadata": {
    "application/vnd.databricks.v1+cell": {
     "cellMetadata": {
      "byteLimit": 2048000,
      "rowLimit": 10000
     },
     "inputWidgets": {},
     "nuid": "ffd3b52b-22d9-408d-b1f2-9a68c3320dd1",
     "showTitle": false,
     "tableResultSettingsMap": {},
     "title": ""
    }
   },
   "outputs": [],
   "source": [
    "cleaned_bronze_df = cleaned_bronze_df.dropDuplicates([\"Customer_ID\", \"Product_Name\", \"Purchase_Date\", \"Purchase_Amount\"])"
   ]
  },
  {
   "cell_type": "markdown",
   "metadata": {
    "application/vnd.databricks.v1+cell": {
     "cellMetadata": {},
     "inputWidgets": {},
     "nuid": "a29bd5d3-22a5-4335-877f-9c0b7e756a4d",
     "showTitle": false,
     "tableResultSettingsMap": {},
     "title": ""
    }
   },
   "source": [
    "### Handling Null values"
   ]
  },
  {
   "cell_type": "code",
   "execution_count": 0,
   "metadata": {
    "application/vnd.databricks.v1+cell": {
     "cellMetadata": {
      "byteLimit": 2048000,
      "rowLimit": 10000
     },
     "inputWidgets": {},
     "nuid": "345ac55a-3790-49e6-b07b-2836b347470d",
     "showTitle": false,
     "tableResultSettingsMap": {},
     "title": ""
    }
   },
   "outputs": [],
   "source": [
    "cleaned_bronze_df = cleaned_bronze_df.dropna(subset=[\"Customer_ID\", \"Purchase_Date\", \"Purchase_Amount\"])"
   ]
  },
  {
   "cell_type": "markdown",
   "metadata": {
    "application/vnd.databricks.v1+cell": {
     "cellMetadata": {},
     "inputWidgets": {},
     "nuid": "8ada04a7-3d9f-453b-a914-6099127435ab",
     "showTitle": false,
     "tableResultSettingsMap": {},
     "title": ""
    }
   },
   "source": [
    "### Date Normalization"
   ]
  },
  {
   "cell_type": "code",
   "execution_count": 0,
   "metadata": {
    "application/vnd.databricks.v1+cell": {
     "cellMetadata": {
      "byteLimit": 2048000,
      "rowLimit": 10000
     },
     "inputWidgets": {},
     "nuid": "5eb00faa-5f98-492e-b0c6-0df6b3d1e597",
     "showTitle": false,
     "tableResultSettingsMap": {},
     "title": ""
    }
   },
   "outputs": [],
   "source": [
    "cleaned_bronze_df = (\n",
    "    cleaned_bronze_df\n",
    "    .withColumn(\"Year\", year(col(\"Purchase_Date\")))\n",
    "    .withColumn(\"Month\", month(col(\"Purchase_Date\")))\n",
    "    .withColumn(\"Day\", dayofmonth(col(\"Purchase_Date\")))\n",
    "    .withColumn(\"Week\", weekofyear(col(\"Purchase_Date\")))\n",
    ")\n"
   ]
  },
  {
   "cell_type": "markdown",
   "metadata": {
    "application/vnd.databricks.v1+cell": {
     "cellMetadata": {},
     "inputWidgets": {},
     "nuid": "5e3a7118-6246-40c6-ab21-d27482090208",
     "showTitle": false,
     "tableResultSettingsMap": {},
     "title": ""
    }
   },
   "source": [
    "### Data Quality Checks"
   ]
  },
  {
   "cell_type": "code",
   "execution_count": 0,
   "metadata": {
    "application/vnd.databricks.v1+cell": {
     "cellMetadata": {
      "byteLimit": 2048000,
      "rowLimit": 10000
     },
     "inputWidgets": {},
     "nuid": "596c90d5-9537-46c6-b308-44c1af4f2cca",
     "showTitle": false,
     "tableResultSettingsMap": {},
     "title": ""
    }
   },
   "outputs": [],
   "source": [
    "valid_payment_methods = [\"Cash on Delivery\", \"Credit Card\", \"Debit Card\", \"UPI\"]\n",
    "\n",
    "silver_df = (\n",
    "    cleaned_bronze_df\n",
    "    .filter(col(\"Customer_ID\").isNotNull()) # customer id not null\n",
    "    .filter(col(\"Payment_Method\").isin(valid_payment_methods)) # ensure valid payment method\n",
    "    .filter(col(\"Purchase_Amount\") > 0) # ensure purchase amount is positive\n",
    "    .withColumn(\"processing_timestamp\", current_timestamp()) # Adding processing metadata\n",
    ")"
   ]
  },
  {
   "cell_type": "code",
   "execution_count": 0,
   "metadata": {
    "application/vnd.databricks.v1+cell": {
     "cellMetadata": {
      "byteLimit": 2048000,
      "rowLimit": 10000
     },
     "inputWidgets": {},
     "nuid": "66a67245-f5fa-4604-8841-a2c2a58f903c",
     "showTitle": false,
     "tableResultSettingsMap": {},
     "title": ""
    }
   },
   "outputs": [],
   "source": [
    "# Writing data to silver table\n",
    "if spark.catalog.tableExists(silver_table):\n",
    "    delta_silver = DeltaTable.forName(spark, silver_table)\n",
    "\n",
    "    (\n",
    "        delta_silver.alias(\"t\") \\\n",
    "        .merge(\n",
    "            silver_df.alias(\"s\"),\n",
    "            \"t.Customer_ID = s.Customer_ID and t.Purchase_Date = s.Purchase_Date\"\n",
    "        )\n",
    "        .whenMatchedUpdateAll()         # update existing records if changed\n",
    "        .whenNotMatchedInsertAll()      # insert new records\n",
    "        .execute()\n",
    "    )\n",
    "\n",
    "else:\n",
    "    silver_df.write \\\n",
    "        .format(\"delta\") \\\n",
    "        .mode(\"overwrite\") \\\n",
    "        .saveAsTable(f\"{silver_table}\")\n"
   ]
  },
  {
   "cell_type": "code",
   "execution_count": 0,
   "metadata": {
    "application/vnd.databricks.v1+cell": {
     "cellMetadata": {
      "byteLimit": 2048000,
      "implicitDf": true,
      "rowLimit": 10000
     },
     "inputWidgets": {},
     "nuid": "2e9e4093-98e6-4495-9a96-a28da3861063",
     "showTitle": false,
     "tableResultSettingsMap": {
      "0": {
       "dataGridStateBlob": "{\"version\":1,\"tableState\":{\"columnPinning\":{\"left\":[\"#row_number#\"],\"right\":[]},\"columnSizing\":{},\"columnVisibility\":{}},\"settings\":{\"columns\":{}},\"syncTimestamp\":1757970650711}",
       "filterBlob": null,
       "queryPlanFiltersBlob": null,
       "tableResultIndex": 0
      }
     },
     "title": ""
    }
   },
   "outputs": [],
   "source": [
    "%sql\n",
    "select * from walmart_purchases.silver.silver_purchases"
   ]
  }
 ],
 "metadata": {
  "application/vnd.databricks.v1+notebook": {
   "computePreferences": null,
   "dashboards": [],
   "environmentMetadata": {
    "base_environment": "",
    "environment_version": "3"
   },
   "inputWidgetPreferences": null,
   "language": "python",
   "notebookMetadata": {
    "mostRecentlyExecutedCommandWithImplicitDF": {
     "commandId": 6680195423076526,
     "dataframes": [
      "_sqldf"
     ]
    },
    "pythonIndentUnit": 4
   },
   "notebookName": "silver_layer_etl",
   "widgets": {}
  },
  "language_info": {
   "name": "python"
  }
 },
 "nbformat": 4,
 "nbformat_minor": 0
}
